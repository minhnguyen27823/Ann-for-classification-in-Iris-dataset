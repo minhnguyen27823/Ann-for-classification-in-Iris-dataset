{
 "cells": [
  {
   "metadata": {
    "collapsed": true,
    "ExecuteTime": {
     "end_time": "2025-05-14T03:23:41.400155Z",
     "start_time": "2025-05-14T03:23:39.251900Z"
    }
   },
   "cell_type": "code",
   "source": [
    "import pandas as pd\n",
    "import numpy as np\n",
    "from sklearn.utils import shuffle\n",
    "from sklearn.preprocessing import MinMaxScaler\n",
    "\n",
    "df = pd.read_csv(\"iris.csv\")\n",
    "data = df.drop([\"Id\"], axis=1)\n",
    "X = data.drop([\"Species\"], axis=1)\n",
    "y = data[\"Species\"]\n",
    "X = X.values\n",
    "y = y.values\n",
    "Y = pd.get_dummies(y, dtype = int)\n",
    "scaler = MinMaxScaler()\n",
    "X_scaled = scaler.fit_transform(X)  # X là mảng numpy hoặc pandas\n",
    "Y = Y.values\n",
    "X, Y = shuffle(X_scaled, Y, random_state=42)"
   ],
   "id": "initial_id",
   "outputs": [],
   "execution_count": 1
  },
  {
   "metadata": {
    "ExecuteTime": {
     "end_time": "2025-05-14T03:23:41.431890Z",
     "start_time": "2025-05-14T03:23:41.400155Z"
    }
   },
   "cell_type": "code",
   "source": [
    "input_layer = 4\n",
    "hidder_layer = 20 #chỉnh từ 10 tới 20\n",
    "output_layer = 3"
   ],
   "id": "5f0d64c49d3a511",
   "outputs": [],
   "execution_count": 2
  },
  {
   "metadata": {
    "ExecuteTime": {
     "end_time": "2025-05-14T03:23:41.941463Z",
     "start_time": "2025-05-14T03:23:41.925839Z"
    }
   },
   "cell_type": "code",
   "source": [
    "def sigmoid(x):\n",
    "    x = np.clip(x, -500, 500)\n",
    "    return 1 / (1 + np.exp(-x))\n",
    "def sigmoid_derivative(x):\n",
    "    x = np.clip(x, 1e-6, 1 - 1e-6)\n",
    "    return x * (1 - x)"
   ],
   "id": "c0a984e33dadfea5",
   "outputs": [],
   "execution_count": 3
  },
  {
   "metadata": {
    "ExecuteTime": {
     "end_time": "2025-05-14T03:23:42.347624Z",
     "start_time": "2025-05-14T03:23:42.332001Z"
    }
   },
   "cell_type": "code",
   "source": [
    "def softmax(z):\n",
    "    exp_z = np.exp(z - np.max(z, axis=1, keepdims=True))  # chống overflow\n",
    "    return exp_z / np.sum(exp_z, axis=1, keepdims=True)"
   ],
   "id": "c5e96e4527a0e93f",
   "outputs": [],
   "execution_count": 4
  },
  {
   "metadata": {
    "ExecuteTime": {
     "end_time": "2025-05-14T03:24:45.847458Z",
     "start_time": "2025-05-14T03:24:45.831440Z"
    }
   },
   "cell_type": "code",
   "source": [
    "def intitial_W(input_layer, hidder_layer, output_layer):\n",
    "    W_1 = np.random.rand(hidder_layer, input_layer)\n",
    "    W_2 = np.random.rand(output_layer, hidder_layer)\n",
    "    b_1 = np.random.rand(hidder_layer)\n",
    "    b_2 = np.random.rand(output_layer)\n",
    "    return W_1, W_2, b_1, b_2"
   ],
   "id": "1c7ad1e8b94da795",
   "outputs": [],
   "execution_count": 7
  },
  {
   "metadata": {
    "ExecuteTime": {
     "end_time": "2025-05-14T03:23:44.443643Z",
     "start_time": "2025-05-14T03:23:44.412002Z"
    }
   },
   "cell_type": "code",
   "source": [
    "\n",
    "def forward_propagation(X, W_1, W_2, b_1, b_2):\n",
    "    Z1 = np.dot(X, W_1.T) + b_1\n",
    "    A1 = sigmoid(Z1)\n",
    "    Z2 = np.dot(A1, W_2.T) + b_2\n",
    "    A = softmax(Z2)\n",
    "    cache = [Z1, A1, Z2, A]\n",
    "    return cache\n",
    "\n",
    "def loss_function(Y, A):\n",
    "    epsilon = 1e-12  # tránh log(0)\n",
    "    A = np.clip(A, epsilon, 1 - epsilon)  # bảo vệ khỏi log(0)\n",
    "    return -np.mean(np.sum(Y * np.log(A), axis=1))\n",
    "\n",
    "\n",
    "def backward_propagation(A, Y, X, cache, param):\n",
    "    m = A.shape[0]\n",
    "    W_1, W_2, b_1, b_2 = param\n",
    "    Z1, A1, Z2, A = cache\n",
    "    # dA = loss_devarite(Y, A)  #(4,1)\n",
    "    dZ2 = A - Y\n",
    "    dW_2 = (1/m)*np.dot(dZ2.T, A1)\n",
    "    db_2 = (1/m)*np.sum(dZ2, axis=0, keepdims=True)\n",
    "    dA1 = np.dot(dZ2, W_2)\n",
    "    dZ1 = dA1 * sigmoid_derivative(A1)\n",
    "    dW_1 = (1/m)*np.dot(dZ1.T, X)\n",
    "    db_1 = (1/m)*np.sum(dZ1, axis=0, keepdims=True)\n",
    "    gra = [dW_1, db_1, dW_2, db_2]\n",
    "    return gra\n",
    "\n",
    "def update_param(W_1, W_2, b_1, b_2, grad, learning_rate = 0.3):\n",
    "    W_1 = W_1 - learning_rate * grad[0]\n",
    "    W_2 = W_2 - learning_rate * grad[2]\n",
    "    b_1 = b_1 - learning_rate * grad[1]\n",
    "    b_2 = b_2 - learning_rate * grad[3]\n",
    "    return W_1, W_2, b_1, b_2"
   ],
   "id": "b8091d2d29e715cf",
   "outputs": [],
   "execution_count": 6
  },
  {
   "metadata": {
    "ExecuteTime": {
     "end_time": "2025-05-07T07:56:17.855419Z",
     "start_time": "2025-05-07T07:56:17.849512Z"
    }
   },
   "cell_type": "code",
   "source": [
    "# epoch = 10000\n",
    "# W_1, W_2, b_1, b_2 = intitial_W() #khởi tạo 1 lần xong nhớ cmt lại để train 100000 epoch ok\n",
    "# for i in range(epoch):\n",
    "#     cache = forward_propagation(X_train, W_1, W_2, b_1, b_2)\n",
    "#     loss = loss_function(Y_train,cache[3])\n",
    "#     param = [W_1, W_2, b_1, b_2]\n",
    "#     gradient = backward_propagation(cache[3],Y_train, X_train, cache, param)\n",
    "#     W_1, W_2, b_1, b_2 = update_param(W_1, W_2, b_1, b_2, gradient,0.05)\n",
    "#     print(loss)"
   ],
   "id": "4c5a2178d18d19f1",
   "outputs": [],
   "execution_count": 7
  },
  {
   "metadata": {
    "ExecuteTime": {
     "end_time": "2025-05-14T04:04:59.593258Z",
     "start_time": "2025-05-14T04:04:59.530143Z"
    }
   },
   "cell_type": "code",
   "source": [
    "from sklearn.metrics import confusion_matrix, ConfusionMatrixDisplay, precision_score, recall_score, accuracy_score\n",
    "import matplotlib.pyplot as plt\n",
    "import numpy as np\n",
    "\n",
    "\n",
    "def do(X, Y, lns, epoch):\n",
    "    accuracies = []\n",
    "    precisions = []\n",
    "    recalls = []\n",
    "    for hidder_layer in range(10,21):\n",
    "        for ln in lns:\n",
    "            print(\"==================================================================================\")\n",
    "            print(f\"Kết quả huấn luyệt với hidden layer có {hidder_layer} lớp và learning rate {ln}\")\n",
    "            for fold in range(5):\n",
    "                X_val = X[fold*30 : fold*30 + 30, :]\n",
    "                Y_val = Y[fold*30 : fold*30 + 30, :]\n",
    "                X_train = np.concatenate((X[:fold*30, :], X[fold*30 + 30:, :]), axis=0)\n",
    "                Y_train = np.concatenate((Y[:fold*30, :], Y[fold*30 + 30:, :]), axis=0)\n",
    "\n",
    "                W_1, W_2, b_1, b_2 = intitial_W(input_layer, hidder_layer, output_layer)\n",
    "\n",
    "                for e in range(epoch):\n",
    "                    cache = forward_propagation(X_train, W_1, W_2, b_1, b_2)\n",
    "                    loss = loss_function(Y_train, cache[3])\n",
    "\n",
    "                    param = [W_1, W_2, b_1, b_2]\n",
    "                    gradient = backward_propagation(cache[3], Y_train, X_train, cache, param)\n",
    "\n",
    "                    W_1, W_2, b_1, b_2 = update_param(W_1, W_2, b_1, b_2, gradient, ln)\n",
    "\n",
    "                # Dự đoán trên tập validation\n",
    "                cache_val = forward_propagation(X_val, W_1, W_2, b_1, b_2)\n",
    "                y_pred = np.argmax(cache_val[3], axis=1)  # Dự đoán lớp có xác suất cao nhất\n",
    "                y_true = np.argmax(Y_val, axis=1)        # Lớp thực tế\n",
    "\n",
    "                # Tính ma trận nhầm lẫn\n",
    "                # cm = confusion_matrix(y_true, y_pred)\n",
    "                # disp = ConfusionMatrixDisplay(confusion_matrix=cm)\n",
    "                # disp.plot(cmap=plt.cm.Blues)\n",
    "                # plt.title(f'Confusion Matrix - Fold {fold+1}')\n",
    "                # plt.show()\n",
    "\n",
    "                # Tính Accuracy, Precision, Recall\n",
    "                accuracy = accuracy_score(y_true, y_pred)\n",
    "                precision = precision_score(y_true, y_pred, average='weighted')  # Tính trung bình có trọng số\n",
    "                recall = recall_score(y_true, y_pred, average='weighted')        # Tính trung bình có trọng số\n",
    "\n",
    "                # Lưu kết quả cho fold này\n",
    "                accuracies.append(accuracy)\n",
    "                precisions.append(precision)\n",
    "                recalls.append(recall)\n",
    "\n",
    "                # print(f\"Fold {fold+1}:\")\n",
    "                # print(f\"Accuracy: {accuracy:.4f}\")\n",
    "                # print(f\"Precision: {precision:.4f}\")\n",
    "                # print(f\"Recall: {recall:.4f}\")\n",
    "                # print(\"-\" * 50)\n",
    "\n",
    "            # Tính trung bình của tất cả các fold\n",
    "            mean_accuracy = np.mean(accuracies)\n",
    "            mean_precision = np.mean(precisions)\n",
    "            mean_recall = np.mean(recalls)\n",
    "\n",
    "            print(\"Average metrics across 5 folds:\")\n",
    "            print(f\"Average Accuracy: {mean_accuracy:.4f}\")\n",
    "            print(f\"Average Precision: {mean_precision:.4f}\")\n",
    "            print(f\"Average Recall: {mean_recall:.4f}\")\n"
   ],
   "id": "b86ec09cff3eacb4",
   "outputs": [],
   "execution_count": 17
  },
  {
   "metadata": {
    "jupyter": {
     "is_executing": true
    },
    "ExecuteTime": {
     "start_time": "2025-05-14T04:05:02.378791Z"
    }
   },
   "cell_type": "code",
   "source": [
    "lns = [0.05, 0.1, 0.5]\n",
    "epoch = 10000\n",
    "do(X, Y, lns, epoch)"
   ],
   "id": "f3f94cef607460ea",
   "outputs": [
    {
     "name": "stdout",
     "output_type": "stream",
     "text": [
      "==================================================================================\n",
      "Kết quả huấn luyệt với hidden layer có 10 lớp và learning rate 0.05\n"
     ]
    }
   ],
   "execution_count": null
  },
  {
   "metadata": {
    "ExecuteTime": {
     "end_time": "2025-05-14T03:53:01.099406600Z",
     "start_time": "2025-05-06T07:03:10.403155Z"
    }
   },
   "cell_type": "code",
   "source": "",
   "id": "ea1a6883f7db6434",
   "outputs": [
    {
     "data": {
      "text/plain": [
       "array([[5.1, 3.5, 1.4, 0.2],\n",
       "       [4.9, 3. , 1.4, 0.2],\n",
       "       [4.7, 3.2, 1.3, 0.2],\n",
       "       [4.6, 3.1, 1.5, 0.2],\n",
       "       [5. , 3.6, 1.4, 0.2],\n",
       "       [5.4, 3.9, 1.7, 0.4],\n",
       "       [4.6, 3.4, 1.4, 0.3],\n",
       "       [5. , 3.4, 1.5, 0.2],\n",
       "       [4.4, 2.9, 1.4, 0.2]])"
      ]
     },
     "execution_count": 52,
     "metadata": {},
     "output_type": "execute_result"
    }
   ],
   "execution_count": 52
  },
  {
   "metadata": {},
   "cell_type": "code",
   "outputs": [],
   "execution_count": null,
   "source": "",
   "id": "8e29b2fcd69c5215"
  }
 ],
 "metadata": {
  "kernelspec": {
   "display_name": "Python 3",
   "language": "python",
   "name": "python3"
  },
  "language_info": {
   "codemirror_mode": {
    "name": "ipython",
    "version": 2
   },
   "file_extension": ".py",
   "mimetype": "text/x-python",
   "name": "python",
   "nbconvert_exporter": "python",
   "pygments_lexer": "ipython2",
   "version": "2.7.6"
  }
 },
 "nbformat": 4,
 "nbformat_minor": 5
}
