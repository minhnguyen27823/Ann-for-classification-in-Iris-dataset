{
 "cells": [
  {
   "metadata": {
    "collapsed": true,
    "ExecuteTime": {
     "end_time": "2025-05-07T07:56:16.697426Z",
     "start_time": "2025-05-07T07:56:13.592606Z"
    }
   },
   "cell_type": "code",
   "source": [
    "import pandas as pd\n",
    "import numpy as np\n",
    "from sklearn.utils import shuffle\n",
    "from sklearn.preprocessing import MinMaxScaler\n",
    "\n",
    "df = pd.read_csv(\"iris.csv\")\n",
    "data = df.drop([\"Id\"], axis=1)\n",
    "X = data.drop([\"Species\"], axis=1)\n",
    "y = data[\"Species\"]\n",
    "X = X.values\n",
    "y = y.values\n",
    "Y = pd.get_dummies(y, dtype = int)\n",
    "scaler = MinMaxScaler()\n",
    "X_scaled = scaler.fit_transform(X)  # X là mảng numpy hoặc pandas\n",
    "Y = Y.values\n",
    "X, Y = shuffle(X_scaled, Y, random_state=42)"
   ],
   "id": "initial_id",
   "outputs": [],
   "execution_count": 1
  },
  {
   "metadata": {
    "ExecuteTime": {
     "end_time": "2025-05-07T07:56:16.720148Z",
     "start_time": "2025-05-07T07:56:16.715312Z"
    }
   },
   "cell_type": "code",
   "source": [
    "input_layer = 4\n",
    "hidder_layer = 20 #chỉnh từ 10 tới 20\n",
    "output_layer = 3"
   ],
   "id": "5f0d64c49d3a511",
   "outputs": [],
   "execution_count": 2
  },
  {
   "metadata": {
    "ExecuteTime": {
     "end_time": "2025-05-07T07:56:16.739265Z",
     "start_time": "2025-05-07T07:56:16.732358Z"
    }
   },
   "cell_type": "code",
   "source": [
    "def sigmoid(x):\n",
    "    x = np.clip(x, -500, 500)\n",
    "    return 1 / (1 + np.exp(-x))\n",
    "def sigmoid_derivative(x):\n",
    "    x = np.clip(x, 1e-6, 1 - 1e-6)\n",
    "    return x * (1 - x)"
   ],
   "id": "c0a984e33dadfea5",
   "outputs": [],
   "execution_count": 3
  },
  {
   "metadata": {
    "ExecuteTime": {
     "end_time": "2025-05-07T07:56:16.769574Z",
     "start_time": "2025-05-07T07:56:16.762661Z"
    }
   },
   "cell_type": "code",
   "source": [
    "def softmax(z):\n",
    "    exp_z = np.exp(z - np.max(z, axis=1, keepdims=True))  # chống overflow\n",
    "    return exp_z / np.sum(exp_z, axis=1, keepdims=True)"
   ],
   "id": "c5e96e4527a0e93f",
   "outputs": [],
   "execution_count": 4
  },
  {
   "metadata": {
    "ExecuteTime": {
     "end_time": "2025-05-07T07:56:17.756338Z",
     "start_time": "2025-05-07T07:56:17.748879Z"
    }
   },
   "cell_type": "code",
   "source": [
    "def intitial_W():\n",
    "    W_1 = np.random.rand(hidder_layer, input_layer)\n",
    "    W_2 = np.random.rand(output_layer, hidder_layer)\n",
    "    b_1 = np.random.rand(hidder_layer)\n",
    "    b_2 = np.random.rand(output_layer)\n",
    "    return W_1, W_2, b_1, b_2"
   ],
   "id": "1c7ad1e8b94da795",
   "outputs": [],
   "execution_count": 5
  },
  {
   "metadata": {
    "ExecuteTime": {
     "end_time": "2025-05-07T07:56:17.820895Z",
     "start_time": "2025-05-07T07:56:17.808226Z"
    }
   },
   "cell_type": "code",
   "source": [
    "\n",
    "def forward_propagation(X, W_1, W_2, b_1, b_2):\n",
    "    Z1 = np.dot(X, W_1.T) + b_1\n",
    "    A1 = sigmoid(Z1)\n",
    "    Z2 = np.dot(A1, W_2.T) + b_2\n",
    "    A = softmax(Z2)\n",
    "    cache = [Z1, A1, Z2, A]\n",
    "    return cache\n",
    "\n",
    "def loss_function(Y, A):\n",
    "    epsilon = 1e-12  # tránh log(0)\n",
    "    A = np.clip(A, epsilon, 1 - epsilon)  # bảo vệ khỏi log(0)\n",
    "    return -np.mean(np.sum(Y * np.log(A), axis=1))\n",
    "\n",
    "\n",
    "def backward_propagation(A, Y, X, cache, param):\n",
    "    m = A.shape[0]\n",
    "    W_1, W_2, b_1, b_2 = param\n",
    "    Z1, A1, Z2, A = cache\n",
    "    # dA = loss_devarite(Y, A)  #(4,1)\n",
    "    dZ2 = A - Y\n",
    "    dW_2 = (1/m)*np.dot(dZ2.T, A1)\n",
    "    db_2 = (1/m)*np.sum(dZ2, axis=0, keepdims=True)\n",
    "    dA1 = np.dot(dZ2, W_2)\n",
    "    dZ1 = dA1 * sigmoid_derivative(A1)\n",
    "    dW_1 = (1/m)*np.dot(dZ1.T, X)\n",
    "    db_1 = (1/m)*np.sum(dZ1, axis=0, keepdims=True)\n",
    "    gra = [dW_1, db_1, dW_2, db_2]\n",
    "    return gra\n",
    "\n",
    "def update_param(W_1, W_2, b_1, b_2, grad, learning_rate = 0.3):\n",
    "    W_1 = W_1 - learning_rate * grad[0]\n",
    "    W_2 = W_2 - learning_rate * grad[2]\n",
    "    b_1 = b_1 - learning_rate * grad[1]\n",
    "    b_2 = b_2 - learning_rate * grad[3]\n",
    "    return W_1, W_2, b_1, b_2"
   ],
   "id": "b8091d2d29e715cf",
   "outputs": [],
   "execution_count": 6
  },
  {
   "metadata": {
    "ExecuteTime": {
     "end_time": "2025-05-07T07:56:17.855419Z",
     "start_time": "2025-05-07T07:56:17.849512Z"
    }
   },
   "cell_type": "code",
   "source": [
    "# epoch = 10000\n",
    "# W_1, W_2, b_1, b_2 = intitial_W() #khởi tạo 1 lần xong nhớ cmt lại để train 100000 epoch ok\n",
    "# for i in range(epoch):\n",
    "#     cache = forward_propagation(X_train, W_1, W_2, b_1, b_2)\n",
    "#     loss = loss_function(Y_train,cache[3])\n",
    "#     param = [W_1, W_2, b_1, b_2]\n",
    "#     gradient = backward_propagation(cache[3],Y_train, X_train, cache, param)\n",
    "#     W_1, W_2, b_1, b_2 = update_param(W_1, W_2, b_1, b_2, gradient,0.05)\n",
    "#     print(loss)"
   ],
   "id": "4c5a2178d18d19f1",
   "outputs": [],
   "execution_count": 7
  },
  {
   "metadata": {
    "ExecuteTime": {
     "end_time": "2025-05-07T07:57:05.217025Z",
     "start_time": "2025-05-07T07:56:55.496490Z"
    }
   },
   "cell_type": "code",
   "source": [
    "from sklearn.metrics import confusion_matrix, ConfusionMatrixDisplay, precision_score, recall_score, accuracy_score\n",
    "import matplotlib.pyplot as plt\n",
    "import numpy as np\n",
    "\n",
    "ln = 0.1\n",
    "epoch = 10000\n",
    "\n",
    "accuracies = []\n",
    "precisions = []\n",
    "recalls = []\n",
    "\n",
    "for fold in range(5):\n",
    "    X_val = X[fold*30 : fold*30 + 30, :]\n",
    "    Y_val = Y[fold*30 : fold*30 + 30, :]\n",
    "    X_train = np.concatenate((X[:fold*30, :], X[fold*30 + 30:, :]), axis=0)\n",
    "    Y_train = np.concatenate((Y[:fold*30, :], Y[fold*30 + 30:, :]), axis=0)\n",
    "\n",
    "    W_1, W_2, b_1, b_2 = intitial_W()\n",
    "\n",
    "    for e in range(epoch):\n",
    "        cache = forward_propagation(X_train, W_1, W_2, b_1, b_2)\n",
    "        loss = loss_function(Y_train, cache[3])\n",
    "\n",
    "        param = [W_1, W_2, b_1, b_2]\n",
    "        gradient = backward_propagation(cache[3], Y_train, X_train, cache, param)\n",
    "\n",
    "        W_1, W_2, b_1, b_2 = update_param(W_1, W_2, b_1, b_2, gradient, ln)\n",
    "\n",
    "    # Dự đoán trên tập validation\n",
    "    cache_val = forward_propagation(X_val, W_1, W_2, b_1, b_2)\n",
    "    y_pred = np.argmax(cache_val[3], axis=1)  # Dự đoán lớp có xác suất cao nhất\n",
    "    y_true = np.argmax(Y_val, axis=1)        # Lớp thực tế\n",
    "\n",
    "    # Tính ma trận nhầm lẫn\n",
    "    cm = confusion_matrix(y_true, y_pred)\n",
    "    disp = ConfusionMatrixDisplay(confusion_matrix=cm)\n",
    "    disp.plot(cmap=plt.cm.Blues)\n",
    "    plt.title(f'Confusion Matrix - Fold {fold+1}')\n",
    "    plt.show()\n",
    "\n",
    "    # Tính Accuracy, Precision, Recall\n",
    "    accuracy = accuracy_score(y_true, y_pred)\n",
    "    precision = precision_score(y_true, y_pred, average='weighted')  # Tính trung bình có trọng số\n",
    "    recall = recall_score(y_true, y_pred, average='weighted')        # Tính trung bình có trọng số\n",
    "\n",
    "    # Lưu kết quả cho fold này\n",
    "    accuracies.append(accuracy)\n",
    "    precisions.append(precision)\n",
    "    recalls.append(recall)\n",
    "\n",
    "    print(f\"Fold {fold+1}:\")\n",
    "    print(f\"Accuracy: {accuracy:.4f}\")\n",
    "    print(f\"Precision: {precision:.4f}\")\n",
    "    print(f\"Recall: {recall:.4f}\")\n",
    "    print(\"-\" * 50)\n",
    "\n",
    "# Tính trung bình của tất cả các fold\n",
    "mean_accuracy = np.mean(accuracies)\n",
    "mean_precision = np.mean(precisions)\n",
    "mean_recall = np.mean(recalls)\n",
    "\n",
    "print(\"Average metrics across 5 folds:\")\n",
    "print(f\"Average Accuracy: {mean_accuracy:.4f}\")\n",
    "print(f\"Average Precision: {mean_precision:.4f}\")\n",
    "print(f\"Average Recall: {mean_recall:.4f}\")\n"
   ],
   "id": "b86ec09cff3eacb4",
   "outputs": [
    {
     "data": {
      "text/plain": [
       "<Figure size 640x480 with 2 Axes>"
      ],
      "image/png": "[encoded data removed]"
     },
     "metadata": {},
     "output_type": "display_data"
    },
    {
     "name": "stdout",
     "output_type": "stream",
     "text": [
      "Fold 1:\n",
      "Accuracy: 0.9667\n",
      "Precision: 0.9694\n",
      "Recall: 0.9667\n",
      "--------------------------------------------------\n"
     ]
    },
    {
     "data": {
      "text/plain": [
       "<Figure size 640x480 with 2 Axes>"
      ],
      "image/png": "[encoded data removed]"
     },
     "metadata": {},
     "output_type": "display_data"
    },
    {
     "name": "stdout",
     "output_type": "stream",
     "text": [
      "Fold 2:\n",
      "Accuracy: 0.9667\n",
      "Precision: 0.9697\n",
      "Recall: 0.9667\n",
      "--------------------------------------------------\n"
     ]
    },
    {
     "data": {
      "text/plain": [
       "<Figure size 640x480 with 2 Axes>"
      ],
      "image/png": "[encoded data removed]"
     },
     "metadata": {},
     "output_type": "display_data"
    },
    {
     "name": "stdout",
     "output_type": "stream",
     "text": [
      "Fold 3:\n",
      "Accuracy: 0.9333\n",
      "Precision: 0.9467\n",
      "Recall: 0.9333\n",
      "--------------------------------------------------\n"
     ]
    },
    {
     "data": {
      "text/plain": [
       "<Figure size 640x480 with 2 Axes>"
      ],
      "image/png": "[encoded data removed]"
     },
     "metadata": {},
     "output_type": "display_data"
    },
    {
     "name": "stdout",
     "output_type": "stream",
     "text": [
      "Fold 4:\n",
      "Accuracy: 0.9667\n",
      "Precision: 0.9692\n",
      "Recall: 0.9667\n",
      "--------------------------------------------------\n"
     ]
    },
    {
     "data": {
      "text/plain": [
       "<Figure size 640x480 with 2 Axes>"
      ],
      "image/png": "[encoded data removed]"
     },
     "metadata": {},
     "output_type": "display_data"
    },
    {
     "name": "stdout",
     "output_type": "stream",
     "text": [
      "Fold 5:\n",
      "Accuracy: 1.0000\n",
      "Precision: 1.0000\n",
      "Recall: 1.0000\n",
      "--------------------------------------------------\n",
      "Average metrics across 5 folds:\n",
      "Average Accuracy: 0.9667\n",
      "Average Precision: 0.9710\n",
      "Average Recall: 0.9667\n"
     ]
    }
   ],
   "execution_count": 9
  },
  {
   "metadata": {
    "ExecuteTime": {
     "end_time": "2025-05-06T12:20:54.922335Z",
     "start_time": "2025-05-06T12:20:39.483683Z"
    }
   },
   "cell_type": "code",
   "source": [
    "# import numpy as np\n",
    "# from tensorflow.keras.models import Sequential\n",
    "# from tensorflow.keras.layers import Dense\n",
    "# from tensorflow.keras.optimizers import SGD\n",
    "# from tensorflow.keras.utils import to_categorical\n",
    "# from sklearn.datasets import load_iris\n",
    "# from sklearn.model_selection import train_test_split\n",
    "# from sklearn.preprocessing import StandardScaler\n",
    "#\n",
    "# # Tải bộ dữ liệu Iris\n",
    "# iris = load_iris()\n",
    "# X = iris.data  # Đặc trưng\n",
    "# y = iris.target  # Nhãn\n",
    "#\n",
    "# # Chuyển nhãn thành mã hóa one-hot\n",
    "# y = to_categorical(y, num_classes=3)\n",
    "#\n",
    "# # Chia dữ liệu thành tập huấn luyện và kiểm tra\n",
    "# X_train, X_test, y_train, y_test = train_test_split(X, y, test_size=0.2, random_state=42)\n",
    "#\n",
    "# # Chuẩn hóa dữ liệu (Standardization)\n",
    "# scaler = StandardScaler()\n",
    "# X_train = scaler.fit_transform(X_train)\n",
    "# X_test = scaler.transform(X_test)\n",
    "#\n",
    "# # Xây dựng mô hình ANN\n",
    "# model = Sequential()\n",
    "#\n",
    "# # Lớp Dense đầu tiên với 10 nơ-ron, hàm kích hoạt sigmoid\n",
    "# model.add(Dense(10, input_dim=4, activation='sigmoid'))\n",
    "#\n",
    "# # Lớp Dense thứ hai (lớp ra) với 3 nơ-ron (mã hóa one-hot), hàm kích hoạt softmax\n",
    "# model.add(Dense(3, activation='softmax'))\n",
    "#\n",
    "# # Biên dịch mô hình với learning_rate thay vì lr\n",
    "# model.compile(optimizer=SGD(learning_rate=0.05), loss='categorical_crossentropy', metrics=['accuracy'])\n",
    "#\n",
    "# # Huấn luyện mô hình\n",
    "# history = model.fit(X_train, y_train, epochs=100, batch_size=10, validation_data=(X_test, y_test))\n",
    "#\n",
    "# # Đánh giá mô hình trên tập kiểm tra\n",
    "# loss, accuracy = model.evaluate(X_test, y_test)\n",
    "# print(f'Test accuracy: {accuracy * 100:.2f}%')\n"
   ],
   "id": "f3f94cef607460ea",
   "outputs": [
    {
     "name": "stdout",
     "output_type": "stream",
     "text": [
      "Epoch 1/100\n"
     ]
    },
    {
     "name": "stderr",
     "output_type": "stream",
     "text": [
      "C:\\Users\\minhn\\anaconda3\\envs\\pythonproject\\lib\\site-packages\\keras\\src\\layers\\core\\dense.py:87: UserWarning: Do not pass an `input_shape`/`input_dim` argument to a layer. When using Sequential models, prefer using an `Input(shape)` object as the first layer in the model instead.\n",
      "  super().__init__(activity_regularizer=activity_regularizer, **kwargs)\n"
     ]
    },
    {
     "name": "stdout",
     "output_type": "stream",
     "text": [
      "\u001B[1m12/12\u001B[0m \u001B[32m━━━━━━━━━━━━━━━━━━━━\u001B[0m\u001B[37m\u001B[0m \u001B[1m1s\u001B[0m 34ms/step - accuracy: 0.3397 - loss: 1.1226 - val_accuracy: 0.4000 - val_loss: 1.0648\n",
      "Epoch 2/100\n",
      "\u001B[1m12/12\u001B[0m \u001B[32m━━━━━━━━━━━━━━━━━━━━\u001B[0m\u001B[37m\u001B[0m \u001B[1m0s\u001B[0m 10ms/step - accuracy: 0.4334 - loss: 1.0417 - val_accuracy: 0.6333 - val_loss: 1.0022\n",
      "Epoch 3/100\n",
      "\u001B[1m12/12\u001B[0m \u001B[32m━━━━━━━━━━━━━━━━━━━━\u001B[0m\u001B[37m\u001B[0m \u001B[1m0s\u001B[0m 7ms/step - accuracy: 0.6528 - loss: 0.9927 - val_accuracy: 0.8667 - val_loss: 0.9505\n",
      "Epoch 4/100\n",
      "\u001B[1m12/12\u001B[0m \u001B[32m━━━━━━━━━━━━━━━━━━━━\u001B[0m\u001B[37m\u001B[0m \u001B[1m0s\u001B[0m 7ms/step - accuracy: 0.7348 - loss: 0.9419 - val_accuracy: 0.8667 - val_loss: 0.9023\n",
      "Epoch 5/100\n",
      "\u001B[1m12/12\u001B[0m \u001B[32m━━━━━━━━━━━━━━━━━━━━\u001B[0m\u001B[37m\u001B[0m \u001B[1m0s\u001B[0m 9ms/step - accuracy: 0.7099 - loss: 0.9112 - val_accuracy: 0.8000 - val_loss: 0.8563\n",
      "Epoch 6/100\n",
      "\u001B[1m12/12\u001B[0m \u001B[32m━━━━━━━━━━━━━━━━━━━━\u001B[0m\u001B[37m\u001B[0m \u001B[1m0s\u001B[0m 7ms/step - accuracy: 0.8046 - loss: 0.8506 - val_accuracy: 0.8333 - val_loss: 0.8161\n",
      "Epoch 7/100\n",
      "\u001B[1m12/12\u001B[0m \u001B[32m━━━━━━━━━━━━━━━━━━━━\u001B[0m\u001B[37m\u001B[0m \u001B[1m0s\u001B[0m 8ms/step - accuracy: 0.8357 - loss: 0.8217 - val_accuracy: 0.8333 - val_loss: 0.7769\n",
      "Epoch 8/100\n",
      "\u001B[1m12/12\u001B[0m \u001B[32m━━━━━━━━━━━━━━━━━━━━\u001B[0m\u001B[37m\u001B[0m \u001B[1m0s\u001B[0m 7ms/step - accuracy: 0.8441 - loss: 0.7874 - val_accuracy: 0.8333 - val_loss: 0.7417\n",
      "Epoch 9/100\n",
      "\u001B[1m12/12\u001B[0m \u001B[32m━━━━━━━━━━━━━━━━━━━━\u001B[0m\u001B[37m\u001B[0m \u001B[1m0s\u001B[0m 9ms/step - accuracy: 0.7893 - loss: 0.7075 - val_accuracy: 0.9000 - val_loss: 0.7120\n",
      "Epoch 10/100\n",
      "\u001B[1m12/12\u001B[0m \u001B[32m━━━━━━━━━━━━━━━━━━━━\u001B[0m\u001B[37m\u001B[0m \u001B[1m0s\u001B[0m 8ms/step - accuracy: 0.8765 - loss: 0.7280 - val_accuracy: 0.9000 - val_loss: 0.6821\n",
      "Epoch 11/100\n",
      "\u001B[1m12/12\u001B[0m \u001B[32m━━━━━━━━━━━━━━━━━━━━\u001B[0m\u001B[37m\u001B[0m \u001B[1m0s\u001B[0m 9ms/step - accuracy: 0.8644 - loss: 0.6787 - val_accuracy: 0.9000 - val_loss: 0.6543\n",
      "Epoch 12/100\n",
      "\u001B[1m12/12\u001B[0m \u001B[32m━━━━━━━━━━━━━━━━━━━━\u001B[0m\u001B[37m\u001B[0m \u001B[1m0s\u001B[0m 7ms/step - accuracy: 0.8193 - loss: 0.6986 - val_accuracy: 0.8667 - val_loss: 0.6283\n",
      "Epoch 13/100\n",
      "\u001B[1m12/12\u001B[0m \u001B[32m━━━━━━━━━━━━━━━━━━━━\u001B[0m\u001B[37m\u001B[0m \u001B[1m0s\u001B[0m 9ms/step - accuracy: 0.8089 - loss: 0.6419 - val_accuracy: 0.8667 - val_loss: 0.6050\n",
      "Epoch 14/100\n",
      "\u001B[1m12/12\u001B[0m \u001B[32m━━━━━━━━━━━━━━━━━━━━\u001B[0m\u001B[37m\u001B[0m \u001B[1m0s\u001B[0m 7ms/step - accuracy: 0.8260 - loss: 0.6418 - val_accuracy: 0.8667 - val_loss: 0.5846\n",
      "Epoch 15/100\n",
      "\u001B[1m12/12\u001B[0m \u001B[32m━━━━━━━━━━━━━━━━━━━━\u001B[0m\u001B[37m\u001B[0m \u001B[1m0s\u001B[0m 9ms/step - accuracy: 0.8697 - loss: 0.5750 - val_accuracy: 0.9000 - val_loss: 0.5667\n",
      "Epoch 16/100\n",
      "\u001B[1m12/12\u001B[0m \u001B[32m━━━━━━━━━━━━━━━━━━━━\u001B[0m\u001B[37m\u001B[0m \u001B[1m0s\u001B[0m 7ms/step - accuracy: 0.9231 - loss: 0.5778 - val_accuracy: 0.9000 - val_loss: 0.5493\n",
      "Epoch 17/100\n",
      "\u001B[1m12/12\u001B[0m \u001B[32m━━━━━━━━━━━━━━━━━━━━\u001B[0m\u001B[37m\u001B[0m \u001B[1m0s\u001B[0m 11ms/step - accuracy: 0.8574 - loss: 0.5554 - val_accuracy: 0.9000 - val_loss: 0.5341\n",
      "Epoch 18/100\n",
      "\u001B[1m12/12\u001B[0m \u001B[32m━━━━━━━━━━━━━━━━━━━━\u001B[0m\u001B[37m\u001B[0m \u001B[1m0s\u001B[0m 10ms/step - accuracy: 0.8705 - loss: 0.5346 - val_accuracy: 0.9000 - val_loss: 0.5193\n",
      "Epoch 19/100\n",
      "\u001B[1m12/12\u001B[0m \u001B[32m━━━━━━━━━━━━━━━━━━━━\u001B[0m\u001B[37m\u001B[0m \u001B[1m0s\u001B[0m 9ms/step - accuracy: 0.8572 - loss: 0.5427 - val_accuracy: 0.9000 - val_loss: 0.5058\n",
      "Epoch 20/100\n",
      "\u001B[1m12/12\u001B[0m \u001B[32m━━━━━━━━━━━━━━━━━━━━\u001B[0m\u001B[37m\u001B[0m \u001B[1m0s\u001B[0m 13ms/step - accuracy: 0.8817 - loss: 0.5128 - val_accuracy: 0.9333 - val_loss: 0.4948\n",
      "Epoch 21/100\n",
      "\u001B[1m12/12\u001B[0m \u001B[32m━━━━━━━━━━━━━━━━━━━━\u001B[0m\u001B[37m\u001B[0m \u001B[1m0s\u001B[0m 10ms/step - accuracy: 0.8933 - loss: 0.5290 - val_accuracy: 0.9333 - val_loss: 0.4832\n",
      "Epoch 22/100\n",
      "\u001B[1m12/12\u001B[0m \u001B[32m━━━━━━━━━━━━━━━━━━━━\u001B[0m\u001B[37m\u001B[0m \u001B[1m0s\u001B[0m 12ms/step - accuracy: 0.8574 - loss: 0.5268 - val_accuracy: 0.9333 - val_loss: 0.4722\n",
      "Epoch 23/100\n",
      "\u001B[1m12/12\u001B[0m \u001B[32m━━━━━━━━━━━━━━━━━━━━\u001B[0m\u001B[37m\u001B[0m \u001B[1m0s\u001B[0m 12ms/step - accuracy: 0.8992 - loss: 0.4967 - val_accuracy: 0.9333 - val_loss: 0.4613\n",
      "Epoch 24/100\n",
      "\u001B[1m12/12\u001B[0m \u001B[32m━━━━━━━━━━━━━━━━━━━━\u001B[0m\u001B[37m\u001B[0m \u001B[1m0s\u001B[0m 9ms/step - accuracy: 0.8853 - loss: 0.4780 - val_accuracy: 0.9333 - val_loss: 0.4515\n",
      "Epoch 25/100\n",
      "\u001B[1m12/12\u001B[0m \u001B[32m━━━━━━━━━━━━━━━━━━━━\u001B[0m\u001B[37m\u001B[0m \u001B[1m0s\u001B[0m 10ms/step - accuracy: 0.9142 - loss: 0.4891 - val_accuracy: 0.9333 - val_loss: 0.4424\n",
      "Epoch 26/100\n",
      "\u001B[1m12/12\u001B[0m \u001B[32m━━━━━━━━━━━━━━━━━━━━\u001B[0m\u001B[37m\u001B[0m \u001B[1m0s\u001B[0m 10ms/step - accuracy: 0.8918 - loss: 0.4517 - val_accuracy: 0.9333 - val_loss: 0.4339\n",
      "Epoch 27/100\n",
      "\u001B[1m12/12\u001B[0m \u001B[32m━━━━━━━━━━━━━━━━━━━━\u001B[0m\u001B[37m\u001B[0m \u001B[1m0s\u001B[0m 9ms/step - accuracy: 0.8922 - loss: 0.4347 - val_accuracy: 0.9333 - val_loss: 0.4263\n",
      "Epoch 28/100\n",
      "\u001B[1m12/12\u001B[0m \u001B[32m━━━━━━━━━━━━━━━━━━━━\u001B[0m\u001B[37m\u001B[0m \u001B[1m0s\u001B[0m 10ms/step - accuracy: 0.9229 - loss: 0.4664 - val_accuracy: 0.9333 - val_loss: 0.4176\n",
      "Epoch 29/100\n",
      "\u001B[1m12/12\u001B[0m \u001B[32m━━━━━━━━━━━━━━━━━━━━\u001B[0m\u001B[37m\u001B[0m \u001B[1m0s\u001B[0m 8ms/step - accuracy: 0.8506 - loss: 0.4729 - val_accuracy: 0.9000 - val_loss: 0.4101\n",
      "Epoch 30/100\n",
      "\u001B[1m12/12\u001B[0m \u001B[32m━━━━━━━━━━━━━━━━━━━━\u001B[0m\u001B[37m\u001B[0m \u001B[1m0s\u001B[0m 9ms/step - accuracy: 0.8284 - loss: 0.4694 - val_accuracy: 0.9333 - val_loss: 0.4035\n",
      "Epoch 31/100\n",
      "\u001B[1m12/12\u001B[0m \u001B[32m━━━━━━━━━━━━━━━━━━━━\u001B[0m\u001B[37m\u001B[0m \u001B[1m0s\u001B[0m 8ms/step - accuracy: 0.8825 - loss: 0.4482 - val_accuracy: 0.9333 - val_loss: 0.3975\n",
      "Epoch 32/100\n",
      "\u001B[1m12/12\u001B[0m \u001B[32m━━━━━━━━━━━━━━━━━━━━\u001B[0m\u001B[37m\u001B[0m \u001B[1m0s\u001B[0m 10ms/step - accuracy: 0.8991 - loss: 0.4250 - val_accuracy: 0.9333 - val_loss: 0.3915\n",
      "Epoch 33/100\n",
      "\u001B[1m12/12\u001B[0m \u001B[32m━━━━━━━━━━━━━━━━━━━━\u001B[0m\u001B[37m\u001B[0m \u001B[1m0s\u001B[0m 9ms/step - accuracy: 0.8958 - loss: 0.4031 - val_accuracy: 0.9333 - val_loss: 0.3857\n",
      "Epoch 34/100\n",
      "\u001B[1m12/12\u001B[0m \u001B[32m━━━━━━━━━━━━━━━━━━━━\u001B[0m\u001B[37m\u001B[0m \u001B[1m0s\u001B[0m 10ms/step - accuracy: 0.8956 - loss: 0.4552 - val_accuracy: 0.9333 - val_loss: 0.3786\n",
      "Epoch 35/100\n",
      "\u001B[1m12/12\u001B[0m \u001B[32m━━━━━━━━━━━━━━━━━━━━\u001B[0m\u001B[37m\u001B[0m \u001B[1m0s\u001B[0m 8ms/step - accuracy: 0.8818 - loss: 0.4121 - val_accuracy: 0.9333 - val_loss: 0.3730\n",
      "Epoch 36/100\n",
      "\u001B[1m12/12\u001B[0m \u001B[32m━━━━━━━━━━━━━━━━━━━━\u001B[0m\u001B[37m\u001B[0m \u001B[1m0s\u001B[0m 8ms/step - accuracy: 0.9060 - loss: 0.4012 - val_accuracy: 0.9333 - val_loss: 0.3674\n",
      "Epoch 37/100\n",
      "\u001B[1m12/12\u001B[0m \u001B[32m━━━━━━━━━━━━━━━━━━━━\u001B[0m\u001B[37m\u001B[0m \u001B[1m0s\u001B[0m 11ms/step - accuracy: 0.9163 - loss: 0.3844 - val_accuracy: 0.9333 - val_loss: 0.3627\n",
      "Epoch 38/100\n",
      "\u001B[1m12/12\u001B[0m \u001B[32m━━━━━━━━━━━━━━━━━━━━\u001B[0m\u001B[37m\u001B[0m \u001B[1m0s\u001B[0m 8ms/step - accuracy: 0.8783 - loss: 0.4120 - val_accuracy: 0.9333 - val_loss: 0.3574\n",
      "Epoch 39/100\n",
      "\u001B[1m12/12\u001B[0m \u001B[32m━━━━━━━━━━━━━━━━━━━━\u001B[0m\u001B[37m\u001B[0m \u001B[1m0s\u001B[0m 10ms/step - accuracy: 0.8665 - loss: 0.3965 - val_accuracy: 0.9333 - val_loss: 0.3527\n",
      "Epoch 40/100\n",
      "\u001B[1m12/12\u001B[0m \u001B[32m━━━━━━━━━━━━━━━━━━━━\u001B[0m\u001B[37m\u001B[0m \u001B[1m0s\u001B[0m 8ms/step - accuracy: 0.8605 - loss: 0.3960 - val_accuracy: 0.9333 - val_loss: 0.3479\n",
      "Epoch 41/100\n",
      "\u001B[1m12/12\u001B[0m \u001B[32m━━━━━━━━━━━━━━━━━━━━\u001B[0m\u001B[37m\u001B[0m \u001B[1m0s\u001B[0m 10ms/step - accuracy: 0.8959 - loss: 0.3726 - val_accuracy: 0.9333 - val_loss: 0.3425\n",
      "Epoch 42/100\n",
      "\u001B[1m12/12\u001B[0m \u001B[32m━━━━━━━━━━━━━━━━━━━━\u001B[0m\u001B[37m\u001B[0m \u001B[1m0s\u001B[0m 8ms/step - accuracy: 0.8890 - loss: 0.3862 - val_accuracy: 0.9333 - val_loss: 0.3381\n",
      "Epoch 43/100\n",
      "\u001B[1m12/12\u001B[0m \u001B[32m━━━━━━━━━━━━━━━━━━━━\u001B[0m\u001B[37m\u001B[0m \u001B[1m0s\u001B[0m 10ms/step - accuracy: 0.8896 - loss: 0.3508 - val_accuracy: 0.9333 - val_loss: 0.3336\n",
      "Epoch 44/100\n",
      "\u001B[1m12/12\u001B[0m \u001B[32m━━━━━━━━━━━━━━━━━━━━\u001B[0m\u001B[37m\u001B[0m \u001B[1m0s\u001B[0m 8ms/step - accuracy: 0.9124 - loss: 0.3858 - val_accuracy: 0.9333 - val_loss: 0.3293\n",
      "Epoch 45/100\n",
      "\u001B[1m12/12\u001B[0m \u001B[32m━━━━━━━━━━━━━━━━━━━━\u001B[0m\u001B[37m\u001B[0m \u001B[1m0s\u001B[0m 8ms/step - accuracy: 0.8924 - loss: 0.3931 - val_accuracy: 0.9333 - val_loss: 0.3251\n",
      "Epoch 46/100\n",
      "\u001B[1m12/12\u001B[0m \u001B[32m━━━━━━━━━━━━━━━━━━━━\u001B[0m\u001B[37m\u001B[0m \u001B[1m0s\u001B[0m 8ms/step - accuracy: 0.8797 - loss: 0.3648 - val_accuracy: 0.9333 - val_loss: 0.3212\n",
      "Epoch 47/100\n",
      "\u001B[1m12/12\u001B[0m \u001B[32m━━━━━━━━━━━━━━━━━━━━\u001B[0m\u001B[37m\u001B[0m \u001B[1m0s\u001B[0m 8ms/step - accuracy: 0.8693 - loss: 0.3758 - val_accuracy: 0.9333 - val_loss: 0.3171\n",
      "Epoch 48/100\n",
      "\u001B[1m12/12\u001B[0m \u001B[32m━━━━━━━━━━━━━━━━━━━━\u001B[0m\u001B[37m\u001B[0m \u001B[1m0s\u001B[0m 8ms/step - accuracy: 0.8879 - loss: 0.3314 - val_accuracy: 0.9333 - val_loss: 0.3135\n",
      "Epoch 49/100\n",
      "\u001B[1m12/12\u001B[0m \u001B[32m━━━━━━━━━━━━━━━━━━━━\u001B[0m\u001B[37m\u001B[0m \u001B[1m0s\u001B[0m 8ms/step - accuracy: 0.9154 - loss: 0.3178 - val_accuracy: 0.9333 - val_loss: 0.3097\n",
      "Epoch 50/100\n",
      "\u001B[1m12/12\u001B[0m \u001B[32m━━━━━━━━━━━━━━━━━━━━\u001B[0m\u001B[37m\u001B[0m \u001B[1m0s\u001B[0m 9ms/step - accuracy: 0.8768 - loss: 0.3735 - val_accuracy: 0.9333 - val_loss: 0.3061\n",
      "Epoch 51/100\n",
      "\u001B[1m12/12\u001B[0m \u001B[32m━━━━━━━━━━━━━━━━━━━━\u001B[0m\u001B[37m\u001B[0m \u001B[1m0s\u001B[0m 7ms/step - accuracy: 0.9349 - loss: 0.3123 - val_accuracy: 0.9333 - val_loss: 0.3025\n",
      "Epoch 52/100\n",
      "\u001B[1m12/12\u001B[0m \u001B[32m━━━━━━━━━━━━━━━━━━━━\u001B[0m\u001B[37m\u001B[0m \u001B[1m0s\u001B[0m 10ms/step - accuracy: 0.9059 - loss: 0.3242 - val_accuracy: 0.9333 - val_loss: 0.2987\n",
      "Epoch 53/100\n",
      "\u001B[1m12/12\u001B[0m \u001B[32m━━━━━━━━━━━━━━━━━━━━\u001B[0m\u001B[37m\u001B[0m \u001B[1m0s\u001B[0m 8ms/step - accuracy: 0.8776 - loss: 0.3643 - val_accuracy: 0.9333 - val_loss: 0.2953\n",
      "Epoch 54/100\n",
      "\u001B[1m12/12\u001B[0m \u001B[32m━━━━━━━━━━━━━━━━━━━━\u001B[0m\u001B[37m\u001B[0m \u001B[1m0s\u001B[0m 11ms/step - accuracy: 0.8946 - loss: 0.3309 - val_accuracy: 0.9333 - val_loss: 0.2919\n",
      "Epoch 55/100\n",
      "\u001B[1m12/12\u001B[0m \u001B[32m━━━━━━━━━━━━━━━━━━━━\u001B[0m\u001B[37m\u001B[0m \u001B[1m0s\u001B[0m 11ms/step - accuracy: 0.8828 - loss: 0.3337 - val_accuracy: 0.9333 - val_loss: 0.2887\n",
      "Epoch 56/100\n",
      "\u001B[1m12/12\u001B[0m \u001B[32m━━━━━━━━━━━━━━━━━━━━\u001B[0m\u001B[37m\u001B[0m \u001B[1m0s\u001B[0m 13ms/step - accuracy: 0.9418 - loss: 0.3093 - val_accuracy: 0.9333 - val_loss: 0.2855\n",
      "Epoch 57/100\n",
      "\u001B[1m12/12\u001B[0m \u001B[32m━━━━━━━━━━━━━━━━━━━━\u001B[0m\u001B[37m\u001B[0m \u001B[1m0s\u001B[0m 12ms/step - accuracy: 0.9204 - loss: 0.2918 - val_accuracy: 0.9333 - val_loss: 0.2826\n",
      "Epoch 58/100\n",
      "\u001B[1m12/12\u001B[0m \u001B[32m━━━━━━━━━━━━━━━━━━━━\u001B[0m\u001B[37m\u001B[0m \u001B[1m0s\u001B[0m 8ms/step - accuracy: 0.9048 - loss: 0.3242 - val_accuracy: 0.9333 - val_loss: 0.2793\n",
      "Epoch 59/100\n",
      "\u001B[1m12/12\u001B[0m \u001B[32m━━━━━━━━━━━━━━━━━━━━\u001B[0m\u001B[37m\u001B[0m \u001B[1m0s\u001B[0m 8ms/step - accuracy: 0.9491 - loss: 0.3015 - val_accuracy: 0.9333 - val_loss: 0.2759\n",
      "Epoch 60/100\n",
      "\u001B[1m12/12\u001B[0m \u001B[32m━━━━━━━━━━━━━━━━━━━━\u001B[0m\u001B[37m\u001B[0m \u001B[1m0s\u001B[0m 9ms/step - accuracy: 0.9242 - loss: 0.2977 - val_accuracy: 0.9333 - val_loss: 0.2730\n",
      "Epoch 61/100\n",
      "\u001B[1m12/12\u001B[0m \u001B[32m━━━━━━━━━━━━━━━━━━━━\u001B[0m\u001B[37m\u001B[0m \u001B[1m0s\u001B[0m 8ms/step - accuracy: 0.9305 - loss: 0.3093 - val_accuracy: 0.9333 - val_loss: 0.2701\n",
      "Epoch 62/100\n",
      "\u001B[1m12/12\u001B[0m \u001B[32m━━━━━━━━━━━━━━━━━━━━\u001B[0m\u001B[37m\u001B[0m \u001B[1m0s\u001B[0m 13ms/step - accuracy: 0.9288 - loss: 0.2877 - val_accuracy: 0.9333 - val_loss: 0.2673\n",
      "Epoch 63/100\n",
      "\u001B[1m12/12\u001B[0m \u001B[32m━━━━━━━━━━━━━━━━━━━━\u001B[0m\u001B[37m\u001B[0m \u001B[1m0s\u001B[0m 8ms/step - accuracy: 0.9229 - loss: 0.3166 - val_accuracy: 0.9333 - val_loss: 0.2644\n",
      "Epoch 64/100\n",
      "\u001B[1m12/12\u001B[0m \u001B[32m━━━━━━━━━━━━━━━━━━━━\u001B[0m\u001B[37m\u001B[0m \u001B[1m0s\u001B[0m 8ms/step - accuracy: 0.9320 - loss: 0.2888 - val_accuracy: 0.9333 - val_loss: 0.2616\n",
      "Epoch 65/100\n",
      "\u001B[1m12/12\u001B[0m \u001B[32m━━━━━━━━━━━━━━━━━━━━\u001B[0m\u001B[37m\u001B[0m \u001B[1m0s\u001B[0m 8ms/step - accuracy: 0.8903 - loss: 0.3148 - val_accuracy: 0.9333 - val_loss: 0.2588\n",
      "Epoch 66/100\n",
      "\u001B[1m12/12\u001B[0m \u001B[32m━━━━━━━━━━━━━━━━━━━━\u001B[0m\u001B[37m\u001B[0m \u001B[1m0s\u001B[0m 10ms/step - accuracy: 0.8732 - loss: 0.3047 - val_accuracy: 0.9333 - val_loss: 0.2561\n",
      "Epoch 67/100\n",
      "\u001B[1m12/12\u001B[0m \u001B[32m━━━━━━━━━━━━━━━━━━━━\u001B[0m\u001B[37m\u001B[0m \u001B[1m0s\u001B[0m 8ms/step - accuracy: 0.8840 - loss: 0.2929 - val_accuracy: 0.9333 - val_loss: 0.2535\n",
      "Epoch 68/100\n",
      "\u001B[1m12/12\u001B[0m \u001B[32m━━━━━━━━━━━━━━━━━━━━\u001B[0m\u001B[37m\u001B[0m \u001B[1m0s\u001B[0m 9ms/step - accuracy: 0.8925 - loss: 0.3222 - val_accuracy: 0.9333 - val_loss: 0.2509\n",
      "Epoch 69/100\n",
      "\u001B[1m12/12\u001B[0m \u001B[32m━━━━━━━━━━━━━━━━━━━━\u001B[0m\u001B[37m\u001B[0m \u001B[1m0s\u001B[0m 8ms/step - accuracy: 0.9189 - loss: 0.2845 - val_accuracy: 0.9333 - val_loss: 0.2483\n",
      "Epoch 70/100\n",
      "\u001B[1m12/12\u001B[0m \u001B[32m━━━━━━━━━━━━━━━━━━━━\u001B[0m\u001B[37m\u001B[0m \u001B[1m0s\u001B[0m 9ms/step - accuracy: 0.8930 - loss: 0.3130 - val_accuracy: 0.9333 - val_loss: 0.2458\n",
      "Epoch 71/100\n",
      "\u001B[1m12/12\u001B[0m \u001B[32m━━━━━━━━━━━━━━━━━━━━\u001B[0m\u001B[37m\u001B[0m \u001B[1m0s\u001B[0m 8ms/step - accuracy: 0.9306 - loss: 0.2740 - val_accuracy: 0.9667 - val_loss: 0.2433\n",
      "Epoch 72/100\n",
      "\u001B[1m12/12\u001B[0m \u001B[32m━━━━━━━━━━━━━━━━━━━━\u001B[0m\u001B[37m\u001B[0m \u001B[1m0s\u001B[0m 8ms/step - accuracy: 0.8894 - loss: 0.2866 - val_accuracy: 0.9667 - val_loss: 0.2409\n",
      "Epoch 73/100\n",
      "\u001B[1m12/12\u001B[0m \u001B[32m━━━━━━━━━━━━━━━━━━━━\u001B[0m\u001B[37m\u001B[0m \u001B[1m0s\u001B[0m 10ms/step - accuracy: 0.9418 - loss: 0.2458 - val_accuracy: 0.9667 - val_loss: 0.2385\n",
      "Epoch 74/100\n",
      "\u001B[1m12/12\u001B[0m \u001B[32m━━━━━━━━━━━━━━━━━━━━\u001B[0m\u001B[37m\u001B[0m \u001B[1m0s\u001B[0m 8ms/step - accuracy: 0.9529 - loss: 0.2410 - val_accuracy: 0.9333 - val_loss: 0.2362\n",
      "Epoch 75/100\n",
      "\u001B[1m12/12\u001B[0m \u001B[32m━━━━━━━━━━━━━━━━━━━━\u001B[0m\u001B[37m\u001B[0m \u001B[1m0s\u001B[0m 10ms/step - accuracy: 0.9467 - loss: 0.2478 - val_accuracy: 0.9667 - val_loss: 0.2338\n",
      "Epoch 76/100\n",
      "\u001B[1m12/12\u001B[0m \u001B[32m━━━━━━━━━━━━━━━━━━━━\u001B[0m\u001B[37m\u001B[0m \u001B[1m0s\u001B[0m 9ms/step - accuracy: 0.9414 - loss: 0.2699 - val_accuracy: 0.9667 - val_loss: 0.2315\n",
      "Epoch 77/100\n",
      "\u001B[1m12/12\u001B[0m \u001B[32m━━━━━━━━━━━━━━━━━━━━\u001B[0m\u001B[37m\u001B[0m \u001B[1m0s\u001B[0m 10ms/step - accuracy: 0.9352 - loss: 0.2599 - val_accuracy: 0.9667 - val_loss: 0.2292\n",
      "Epoch 78/100\n",
      "\u001B[1m12/12\u001B[0m \u001B[32m━━━━━━━━━━━━━━━━━━━━\u001B[0m\u001B[37m\u001B[0m \u001B[1m0s\u001B[0m 10ms/step - accuracy: 0.9300 - loss: 0.2696 - val_accuracy: 1.0000 - val_loss: 0.2270\n",
      "Epoch 79/100\n",
      "\u001B[1m12/12\u001B[0m \u001B[32m━━━━━━━━━━━━━━━━━━━━\u001B[0m\u001B[37m\u001B[0m \u001B[1m0s\u001B[0m 12ms/step - accuracy: 0.9089 - loss: 0.2894 - val_accuracy: 0.9667 - val_loss: 0.2250\n",
      "Epoch 80/100\n",
      "\u001B[1m12/12\u001B[0m \u001B[32m━━━━━━━━━━━━━━━━━━━━\u001B[0m\u001B[37m\u001B[0m \u001B[1m0s\u001B[0m 11ms/step - accuracy: 0.9195 - loss: 0.2660 - val_accuracy: 1.0000 - val_loss: 0.2227\n",
      "Epoch 81/100\n",
      "\u001B[1m12/12\u001B[0m \u001B[32m━━━━━━━━━━━━━━━━━━━━\u001B[0m\u001B[37m\u001B[0m \u001B[1m0s\u001B[0m 8ms/step - accuracy: 0.9422 - loss: 0.2394 - val_accuracy: 1.0000 - val_loss: 0.2206\n",
      "Epoch 82/100\n",
      "\u001B[1m12/12\u001B[0m \u001B[32m━━━━━━━━━━━━━━━━━━━━\u001B[0m\u001B[37m\u001B[0m \u001B[1m0s\u001B[0m 10ms/step - accuracy: 0.8942 - loss: 0.2543 - val_accuracy: 1.0000 - val_loss: 0.2185\n",
      "Epoch 83/100\n",
      "\u001B[1m12/12\u001B[0m \u001B[32m━━━━━━━━━━━━━━━━━━━━\u001B[0m\u001B[37m\u001B[0m \u001B[1m0s\u001B[0m 7ms/step - accuracy: 0.8780 - loss: 0.3015 - val_accuracy: 1.0000 - val_loss: 0.2164\n",
      "Epoch 84/100\n",
      "\u001B[1m12/12\u001B[0m \u001B[32m━━━━━━━━━━━━━━━━━━━━\u001B[0m\u001B[37m\u001B[0m \u001B[1m0s\u001B[0m 9ms/step - accuracy: 0.8613 - loss: 0.2887 - val_accuracy: 1.0000 - val_loss: 0.2146\n",
      "Epoch 85/100\n",
      "\u001B[1m12/12\u001B[0m \u001B[32m━━━━━━━━━━━━━━━━━━━━\u001B[0m\u001B[37m\u001B[0m \u001B[1m0s\u001B[0m 8ms/step - accuracy: 0.9388 - loss: 0.2711 - val_accuracy: 1.0000 - val_loss: 0.2124\n",
      "Epoch 86/100\n",
      "\u001B[1m12/12\u001B[0m \u001B[32m━━━━━━━━━━━━━━━━━━━━\u001B[0m\u001B[37m\u001B[0m \u001B[1m0s\u001B[0m 10ms/step - accuracy: 0.9314 - loss: 0.2539 - val_accuracy: 1.0000 - val_loss: 0.2105\n",
      "Epoch 87/100\n",
      "\u001B[1m12/12\u001B[0m \u001B[32m━━━━━━━━━━━━━━━━━━━━\u001B[0m\u001B[37m\u001B[0m \u001B[1m0s\u001B[0m 8ms/step - accuracy: 0.9607 - loss: 0.2233 - val_accuracy: 1.0000 - val_loss: 0.2084\n",
      "Epoch 88/100\n",
      "\u001B[1m12/12\u001B[0m \u001B[32m━━━━━━━━━━━━━━━━━━━━\u001B[0m\u001B[37m\u001B[0m \u001B[1m0s\u001B[0m 11ms/step - accuracy: 0.9337 - loss: 0.2620 - val_accuracy: 1.0000 - val_loss: 0.2064\n",
      "Epoch 89/100\n",
      "\u001B[1m12/12\u001B[0m \u001B[32m━━━━━━━━━━━━━━━━━━━━\u001B[0m\u001B[37m\u001B[0m \u001B[1m0s\u001B[0m 8ms/step - accuracy: 0.9484 - loss: 0.2211 - val_accuracy: 1.0000 - val_loss: 0.2044\n",
      "Epoch 90/100\n",
      "\u001B[1m12/12\u001B[0m \u001B[32m━━━━━━━━━━━━━━━━━━━━\u001B[0m\u001B[37m\u001B[0m \u001B[1m0s\u001B[0m 8ms/step - accuracy: 0.9640 - loss: 0.1965 - val_accuracy: 1.0000 - val_loss: 0.2025\n",
      "Epoch 91/100\n",
      "\u001B[1m12/12\u001B[0m \u001B[32m━━━━━━━━━━━━━━━━━━━━\u001B[0m\u001B[37m\u001B[0m \u001B[1m0s\u001B[0m 7ms/step - accuracy: 0.9102 - loss: 0.2671 - val_accuracy: 1.0000 - val_loss: 0.2008\n",
      "Epoch 92/100\n",
      "\u001B[1m12/12\u001B[0m \u001B[32m━━━━━━━━━━━━━━━━━━━━\u001B[0m\u001B[37m\u001B[0m \u001B[1m0s\u001B[0m 8ms/step - accuracy: 0.9228 - loss: 0.2251 - val_accuracy: 1.0000 - val_loss: 0.1987\n",
      "Epoch 93/100\n",
      "\u001B[1m12/12\u001B[0m \u001B[32m━━━━━━━━━━━━━━━━━━━━\u001B[0m\u001B[37m\u001B[0m \u001B[1m0s\u001B[0m 8ms/step - accuracy: 0.9393 - loss: 0.2127 - val_accuracy: 1.0000 - val_loss: 0.1968\n",
      "Epoch 94/100\n",
      "\u001B[1m12/12\u001B[0m \u001B[32m━━━━━━━━━━━━━━━━━━━━\u001B[0m\u001B[37m\u001B[0m \u001B[1m0s\u001B[0m 9ms/step - accuracy: 0.9481 - loss: 0.2486 - val_accuracy: 1.0000 - val_loss: 0.1952\n",
      "Epoch 95/100\n",
      "\u001B[1m12/12\u001B[0m \u001B[32m━━━━━━━━━━━━━━━━━━━━\u001B[0m\u001B[37m\u001B[0m \u001B[1m0s\u001B[0m 11ms/step - accuracy: 0.9372 - loss: 0.2114 - val_accuracy: 1.0000 - val_loss: 0.1933\n",
      "Epoch 96/100\n",
      "\u001B[1m12/12\u001B[0m \u001B[32m━━━━━━━━━━━━━━━━━━━━\u001B[0m\u001B[37m\u001B[0m \u001B[1m0s\u001B[0m 7ms/step - accuracy: 0.9433 - loss: 0.2115 - val_accuracy: 1.0000 - val_loss: 0.1916\n",
      "Epoch 97/100\n",
      "\u001B[1m12/12\u001B[0m \u001B[32m━━━━━━━━━━━━━━━━━━━━\u001B[0m\u001B[37m\u001B[0m \u001B[1m0s\u001B[0m 10ms/step - accuracy: 0.9520 - loss: 0.2183 - val_accuracy: 1.0000 - val_loss: 0.1899\n",
      "Epoch 98/100\n",
      "\u001B[1m12/12\u001B[0m \u001B[32m━━━━━━━━━━━━━━━━━━━━\u001B[0m\u001B[37m\u001B[0m \u001B[1m0s\u001B[0m 9ms/step - accuracy: 0.9233 - loss: 0.2229 - val_accuracy: 1.0000 - val_loss: 0.1882\n",
      "Epoch 99/100\n",
      "\u001B[1m12/12\u001B[0m \u001B[32m━━━━━━━━━━━━━━━━━━━━\u001B[0m\u001B[37m\u001B[0m \u001B[1m0s\u001B[0m 10ms/step - accuracy: 0.9527 - loss: 0.2160 - val_accuracy: 1.0000 - val_loss: 0.1863\n",
      "Epoch 100/100\n",
      "\u001B[1m12/12\u001B[0m \u001B[32m━━━━━━━━━━━━━━━━━━━━\u001B[0m\u001B[37m\u001B[0m \u001B[1m0s\u001B[0m 9ms/step - accuracy: 0.9198 - loss: 0.2380 - val_accuracy: 1.0000 - val_loss: 0.1846\n",
      "\u001B[1m1/1\u001B[0m \u001B[32m━━━━━━━━━━━━━━━━━━━━\u001B[0m\u001B[37m\u001B[0m \u001B[1m0s\u001B[0m 220ms/step - accuracy: 1.0000 - loss: 0.1846\n",
      "Test accuracy: 100.00%\n"
     ]
    }
   ],
   "execution_count": 18
  },
  {
   "metadata": {
    "ExecuteTime": {
     "end_time": "2025-05-06T07:03:10.419181Z",
     "start_time": "2025-05-06T07:03:10.403155Z"
    }
   },
   "cell_type": "code",
   "source": "",
   "id": "ea1a6883f7db6434",
   "outputs": [
    {
     "data": {
      "text/plain": [
       "array([[5.1, 3.5, 1.4, 0.2],\n",
       "       [4.9, 3. , 1.4, 0.2],\n",
       "       [4.7, 3.2, 1.3, 0.2],\n",
       "       [4.6, 3.1, 1.5, 0.2],\n",
       "       [5. , 3.6, 1.4, 0.2],\n",
       "       [5.4, 3.9, 1.7, 0.4],\n",
       "       [4.6, 3.4, 1.4, 0.3],\n",
       "       [5. , 3.4, 1.5, 0.2],\n",
       "       [4.4, 2.9, 1.4, 0.2]])"
      ]
     },
     "execution_count": 52,
     "metadata": {},
     "output_type": "execute_result"
    }
   ],
   "execution_count": 52
  },
  {
   "metadata": {},
   "cell_type": "code",
   "outputs": [],
   "execution_count": null,
   "source": "",
   "id": "8e29b2fcd69c5215"
  }
 ],
 "metadata": {
  "kernelspec": {
   "display_name": "Python 3",
   "language": "python",
   "name": "python3"
  },
  "language_info": {
   "codemirror_mode": {
    "name": "ipython",
    "version": 2
   },
   "file_extension": ".py",
   "mimetype": "text/x-python",
   "name": "python",
   "nbconvert_exporter": "python",
   "pygments_lexer": "ipython2",
   "version": "2.7.6"
  }
 },
 "nbformat": 4,
 "nbformat_minor": 5
}
